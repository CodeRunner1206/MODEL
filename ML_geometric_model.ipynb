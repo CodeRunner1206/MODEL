{
  "nbformat": 4,
  "nbformat_minor": 0,
  "metadata": {
    "colab": {
      "provenance": [],
      "authorship_tag": "ABX9TyNjssyaM+PjxOCCMZorEu8c",
      "include_colab_link": true
    },
    "kernelspec": {
      "name": "python3",
      "display_name": "Python 3"
    },
    "language_info": {
      "name": "python"
    }
  },
  "cells": [
    {
      "cell_type": "markdown",
      "metadata": {
        "id": "view-in-github",
        "colab_type": "text"
      },
      "source": [
        "<a href=\"https://colab.research.google.com/github/CodeRunner1206/MODEL/blob/main/ML_geometric_model.ipynb\" target=\"_parent\"><img src=\"https://colab.research.google.com/assets/colab-badge.svg\" alt=\"Open In Colab\"/></a>"
      ]
    },
    {
      "cell_type": "code",
      "execution_count": null,
      "metadata": {
        "colab": {
          "base_uri": "https://localhost:8080/"
        },
        "id": "yeR5Lq3aRLu7",
        "outputId": "95bb1770-498a-41be-a7f9-0e6d7dadf777"
      },
      "outputs": [
        {
          "output_type": "stream",
          "name": "stdout",
          "text": [
            "Overflow\n"
          ]
        }
      ],
      "source": [
        "def overflow( H, r, h, N, R ):\n",
        "  tank_cap = 3.14 * r * r * H\n",
        "  water_vol = 3.14 * r * r * h\n",
        "  balls_vol = N * (4 / 3) * 3.14 * R * R * R\n",
        "  vol = water_vol + balls_vol\n",
        "  if vol > tank_cap:\n",
        "        print(\"Overflow\")\n",
        "  else:\n",
        "        print(\"Not in overflow state\")\n",
        "\n",
        "H = 5\n",
        "r = 3\n",
        "h = 3\n",
        "N = 3\n",
        "R = 2\n",
        "\n",
        "overflow(H,r,h,N,R)"
      ]
    },
    {
      "cell_type": "code",
      "source": [
        "\n",
        "# calculate hamming distance\n",
        "def hamming_distance(a, b):\n",
        "\treturn sum(abs(e1 - e2) for e1, e2 in zip(a, b)) / len(a)\n",
        "\n",
        "# define data\n",
        "row1 = [10, 20, 15, 10, 5]\n",
        "row2 = [12, 24, 18, 8, 7]\n",
        "# calculate distance\n",
        "dist = hamming_distance(row1, row2)\n",
        "print(dist)"
      ],
      "metadata": {
        "colab": {
          "base_uri": "https://localhost:8080/"
        },
        "id": "RUf1TWhjWYAh",
        "outputId": "bc719bcd-eb79-4dd9-99e0-902d06b9f7e7"
      },
      "execution_count": null,
      "outputs": [
        {
          "output_type": "stream",
          "name": "stdout",
          "text": [
            "2.6\n"
          ]
        }
      ]
    },
    {
      "cell_type": "code",
      "source": [
        "# calculating euclidean distance between vectors\n",
        "from math import sqrt\n",
        "\n",
        "# calculate euclidean distance\n",
        "def euclidean_distance(a, b):\n",
        "\treturn sqrt(sum((e1-e2)**2 for e1, e2 in zip(a,b)))\n",
        "\n",
        "# define data\n",
        "row1 = [10, 20, 15, 10, 5]\n",
        "row2 = [12, 24, 18, 8, 7]\n",
        "# calculate distance\n",
        "dist = euclidean_distance(row1, row2)\n",
        "print(dist)"
      ],
      "metadata": {
        "colab": {
          "base_uri": "https://localhost:8080/"
        },
        "id": "7t2PtCWmXzK3",
        "outputId": "ebfc1c6e-56d3-4813-9d0c-3bffefa85f57"
      },
      "execution_count": null,
      "outputs": [
        {
          "output_type": "stream",
          "name": "stdout",
          "text": [
            "6.082762530298219\n"
          ]
        }
      ]
    },
    {
      "cell_type": "code",
      "source": [
        "# calculating manhattan distance between vectors\n",
        "from math import sqrt\n",
        "\n",
        "# calculate manhattan distance\n",
        "def manhattan_distance(a, b):\n",
        "\treturn sum(abs(e1-e2) for e1, e2 in zip(a,b))\n",
        "\n",
        "# define data\n",
        "row1 = [10, 20, 15, 10, 5]\n",
        "row2 = [12, 24, 18, 8, 7]\n",
        "# calculate distance\n",
        "dist = manhattan_distance(row1, row2)\n",
        "print(dist)"
      ],
      "metadata": {
        "colab": {
          "base_uri": "https://localhost:8080/"
        },
        "id": "yWw00BE2X9XQ",
        "outputId": "7f2e2705-c09c-4f2a-8e03-02937cac9b8e"
      },
      "execution_count": null,
      "outputs": [
        {
          "output_type": "stream",
          "name": "stdout",
          "text": [
            "13\n"
          ]
        }
      ]
    },
    {
      "cell_type": "code",
      "source": [
        "# calculating minkowski distance between vectors\n",
        "from math import sqrt\n",
        "\n",
        "# calculate minkowski distance\n",
        "def minkowski_distance(a, b, p):\n",
        "\treturn sum(abs(e1-e2)**p for e1, e2 in zip(a,b))**(1/p)\n",
        "\n",
        "# define data\n",
        "row1 = [10, 20, 15, 10, 5]\n",
        "row2 = [12, 24, 18, 8, 7]\n",
        "# calculate distance (p=1)\n",
        "dist = minkowski_distance(row1, row2, 1)\n",
        "print(dist)\n",
        "# calculate distance (p=2)\n",
        "dist = minkowski_distance(row1, row2, 2)\n",
        "print(dist)"
      ],
      "metadata": {
        "colab": {
          "base_uri": "https://localhost:8080/"
        },
        "id": "IgmHMRm4Y8bX",
        "outputId": "6291a2bc-8593-40a3-ce36-4b3962f3a07a"
      },
      "execution_count": null,
      "outputs": [
        {
          "output_type": "stream",
          "name": "stdout",
          "text": [
            "13.0\n",
            "6.082762530298219\n"
          ]
        }
      ]
    }
  ]
}